{
 "cells": [
  {
   "cell_type": "code",
   "execution_count": 139,
   "metadata": {},
   "outputs": [],
   "source": [
    "import math\n",
    "import statistics\n",
    "import pandas as pd\n",
    "import numpy as np\n",
    "import matplotlib.pyplot as plt\n",
    "%matplotlib inline"
   ]
  },
  {
   "cell_type": "markdown",
   "metadata": {},
   "source": [
    "## Read Datasets"
   ]
  },
  {
   "cell_type": "code",
   "execution_count": 114,
   "metadata": {},
   "outputs": [
    {
     "data": {
      "text/html": [
       "<div>\n",
       "<style scoped>\n",
       "    .dataframe tbody tr th:only-of-type {\n",
       "        vertical-align: middle;\n",
       "    }\n",
       "\n",
       "    .dataframe tbody tr th {\n",
       "        vertical-align: top;\n",
       "    }\n",
       "\n",
       "    .dataframe thead th {\n",
       "        text-align: right;\n",
       "    }\n",
       "</style>\n",
       "<table border=\"1\" class=\"dataframe\">\n",
       "  <thead>\n",
       "    <tr style=\"text-align: right;\">\n",
       "      <th></th>\n",
       "      <th>Name</th>\n",
       "      <th>Author</th>\n",
       "      <th>User Rating</th>\n",
       "      <th>Reviews</th>\n",
       "      <th>Price</th>\n",
       "      <th>Year</th>\n",
       "      <th>Genre</th>\n",
       "    </tr>\n",
       "  </thead>\n",
       "  <tbody>\n",
       "    <tr>\n",
       "      <th>0</th>\n",
       "      <td>10-Day Green Smoothie Cleanse</td>\n",
       "      <td>JJ Smith</td>\n",
       "      <td>4.7</td>\n",
       "      <td>17350</td>\n",
       "      <td>8</td>\n",
       "      <td>2016</td>\n",
       "      <td>Non Fiction</td>\n",
       "    </tr>\n",
       "    <tr>\n",
       "      <th>1</th>\n",
       "      <td>11/22/63: A Novel</td>\n",
       "      <td>Stephen King</td>\n",
       "      <td>4.6</td>\n",
       "      <td>2052</td>\n",
       "      <td>22</td>\n",
       "      <td>2011</td>\n",
       "      <td>Fiction</td>\n",
       "    </tr>\n",
       "    <tr>\n",
       "      <th>2</th>\n",
       "      <td>12 Rules for Life: An Antidote to Chaos</td>\n",
       "      <td>Jordan B. Peterson</td>\n",
       "      <td>4.7</td>\n",
       "      <td>18979</td>\n",
       "      <td>15</td>\n",
       "      <td>2018</td>\n",
       "      <td>Non Fiction</td>\n",
       "    </tr>\n",
       "    <tr>\n",
       "      <th>3</th>\n",
       "      <td>1984 (Signet Classics)</td>\n",
       "      <td>George Orwell</td>\n",
       "      <td>4.7</td>\n",
       "      <td>21424</td>\n",
       "      <td>6</td>\n",
       "      <td>2017</td>\n",
       "      <td>Fiction</td>\n",
       "    </tr>\n",
       "    <tr>\n",
       "      <th>4</th>\n",
       "      <td>5,000 Awesome Facts (About Everything!) (Natio...</td>\n",
       "      <td>National Geographic Kids</td>\n",
       "      <td>4.8</td>\n",
       "      <td>7665</td>\n",
       "      <td>12</td>\n",
       "      <td>2019</td>\n",
       "      <td>Non Fiction</td>\n",
       "    </tr>\n",
       "  </tbody>\n",
       "</table>\n",
       "</div>"
      ],
      "text/plain": [
       "                                                Name  \\\n",
       "0                      10-Day Green Smoothie Cleanse   \n",
       "1                                  11/22/63: A Novel   \n",
       "2            12 Rules for Life: An Antidote to Chaos   \n",
       "3                             1984 (Signet Classics)   \n",
       "4  5,000 Awesome Facts (About Everything!) (Natio...   \n",
       "\n",
       "                     Author  User Rating  Reviews  Price  Year        Genre  \n",
       "0                  JJ Smith          4.7    17350      8  2016  Non Fiction  \n",
       "1              Stephen King          4.6     2052     22  2011      Fiction  \n",
       "2        Jordan B. Peterson          4.7    18979     15  2018  Non Fiction  \n",
       "3             George Orwell          4.7    21424      6  2017      Fiction  \n",
       "4  National Geographic Kids          4.8     7665     12  2019  Non Fiction  "
      ]
     },
     "execution_count": 114,
     "metadata": {},
     "output_type": "execute_result"
    }
   ],
   "source": [
    "# Load the dataset and check the first 5 records\n",
    "\n",
    "df = pd.read_csv(\"data/bestsellers with categories.csv\", encoding='ISO-8859-1')\n",
    "df.head()"
   ]
  },
  {
   "cell_type": "code",
   "execution_count": 115,
   "metadata": {},
   "outputs": [
    {
     "name": "stdout",
     "output_type": "stream",
     "text": [
      "Index(['Name', 'Author', 'User Rating', 'Reviews', 'Price', 'Year', 'Genre'], dtype='object')\n",
      "total colums: 7\n",
      "total records: 550\n"
     ]
    }
   ],
   "source": [
    "# List the columns in the dataframe\n",
    "print(df.columns)\n",
    "print(f\"total colums: {len(df.columns)}\")\n",
    "print(f\"total records: {len(df)}\")"
   ]
  },
  {
   "cell_type": "code",
   "execution_count": 116,
   "metadata": {},
   "outputs": [
    {
     "data": {
      "text/plain": [
       "Name           0\n",
       "Author         0\n",
       "User Rating    0\n",
       "Reviews        0\n",
       "Price          0\n",
       "Year           0\n",
       "Genre          0\n",
       "dtype: int64"
      ]
     },
     "execution_count": 116,
     "metadata": {},
     "output_type": "execute_result"
    }
   ],
   "source": [
    "# Check if the columns contain Null values\n",
    "df.isna().sum()"
   ]
  },
  {
   "cell_type": "markdown",
   "metadata": {},
   "source": [
    "## Cleaning"
   ]
  },
  {
   "cell_type": "markdown",
   "metadata": {},
   "source": [
    "### Renaming Columns"
   ]
  },
  {
   "cell_type": "code",
   "execution_count": 117,
   "metadata": {},
   "outputs": [
    {
     "data": {
      "text/plain": [
       "Index(['name', 'author', 'user_rating', 'reviews', 'price', 'year', 'genre'], dtype='object')"
      ]
     },
     "execution_count": 117,
     "metadata": {},
     "output_type": "execute_result"
    }
   ],
   "source": [
    "# Column names in the original dataset contains spaces which are not easier to\n",
    "# work with. So, we will replace spaces with \"_\" and make the names lowercase.\n",
    "\n",
    "new_names = {}\n",
    "\n",
    "for old_name in df.columns:\n",
    "    new_names[old_name] = old_name.lower().replace(\" \", \"_\")\n",
    "\n",
    "df = df.rename(columns=new_names)\n",
    "df.columns"
   ]
  },
  {
   "cell_type": "markdown",
   "metadata": {},
   "source": [
    "### Dtype Checking"
   ]
  },
  {
   "cell_type": "code",
   "execution_count": 118,
   "metadata": {},
   "outputs": [
    {
     "name": "stdout",
     "output_type": "stream",
     "text": [
      "1\n",
      "['user_rating']\n"
     ]
    }
   ],
   "source": [
    "# What variables are of decimal/float datatype?\n",
    "float_cols = []\n",
    "\n",
    "for col in df:\n",
    "    if df[col].dtype == np.float64:\n",
    "        float_cols.append(col)\n",
    "\n",
    "print(len(float_cols))\n",
    "print(float_cols)"
   ]
  },
  {
   "cell_type": "code",
   "execution_count": 119,
   "metadata": {},
   "outputs": [
    {
     "name": "stdout",
     "output_type": "stream",
     "text": [
      "3\n",
      "['reviews', 'price', 'year']\n"
     ]
    }
   ],
   "source": [
    "# What variables are of integer datatype?\n",
    "int_cols = []\n",
    "\n",
    "for col in df:\n",
    "    if df[col].dtype == np.int64:\n",
    "        int_cols.append(col)\n",
    "\n",
    "print(len(int_cols))\n",
    "print(int_cols)"
   ]
  },
  {
   "cell_type": "code",
   "execution_count": 120,
   "metadata": {},
   "outputs": [
    {
     "name": "stdout",
     "output_type": "stream",
     "text": [
      "3\n",
      "['name', 'author', 'genre']\n"
     ]
    }
   ],
   "source": [
    "# What variables are of string/object/categorical datatype?\n",
    "str_cols = []\n",
    "\n",
    "for col in df:\n",
    "    if df[col].dtype == \"object\":\n",
    "        str_cols.append(col)\n",
    "\n",
    "print(len(str_cols))\n",
    "print(str_cols)"
   ]
  },
  {
   "cell_type": "markdown",
   "metadata": {},
   "source": [
    "### Genre"
   ]
  },
  {
   "cell_type": "code",
   "execution_count": 121,
   "metadata": {},
   "outputs": [
    {
     "name": "stdout",
     "output_type": "stream",
     "text": [
      "num of fiction books: 240\n",
      "num of non fiction books: 310\n",
      "ratio: 0.7741935483870968\n"
     ]
    }
   ],
   "source": [
    "fiction = len(df[df.genre == 'Fiction'])\n",
    "non_fiction = len(df[df.genre == 'Non Fiction'])\n",
    "\n",
    "print(f\"num of fiction books: {fiction}\")\n",
    "print(f\"num of non fiction books: {non_fiction}\")\n",
    "print(f\"ratio: {fiction / non_fiction}\")"
   ]
  },
  {
   "cell_type": "markdown",
   "metadata": {},
   "source": [
    "The ratio of the number of fiction and non-fiction books is 77% so we can say that the dataset is somewhat balanced."
   ]
  },
  {
   "cell_type": "markdown",
   "metadata": {},
   "source": [
    "### Rating"
   ]
  },
  {
   "cell_type": "code",
   "execution_count": 122,
   "metadata": {},
   "outputs": [
    {
     "name": "stdout",
     "output_type": "stream",
     "text": [
      "min: 3.3\n",
      "max: 4.9\n",
      "mean: 4.618363636363637\n",
      "std: 0.2269803650251963\n"
     ]
    }
   ],
   "source": [
    "print(f\"min: {df['user_rating'].min()}\")\n",
    "print(f\"max: {df['user_rating'].max()}\")\n",
    "\n",
    "print(f\"mean: {df['user_rating'].mean()}\")\n",
    "print(f\"std: {df['user_rating'].std()}\")"
   ]
  },
  {
   "cell_type": "markdown",
   "metadata": {},
   "source": [
    "## General Funcs"
   ]
  },
  {
   "cell_type": "code",
   "execution_count": 123,
   "metadata": {},
   "outputs": [],
   "source": [
    "def get_stats(series, name, cdf=True, reset_index=True):\n",
    "    \n",
    "    '''\n",
    "    Calculate frequency, pmf and cdf of the values in the variable.\n",
    "    Args:\n",
    "        series (Pandas.Series): The variable column\n",
    "        name (String): Name of the variable column\n",
    "        cdf (Boolean): To calculate cdf or not\n",
    "        reset_index (Boolean): to reset the index of the resulting series or not\n",
    "    Returns:\n",
    "        Pandas.DataFrame\n",
    "    '''\n",
    "    \n",
    "    df = pd.DataFrame(series)\n",
    "    stats_df = df.groupby(name)[name] \\\n",
    "    .agg('count') \\\n",
    "    .pipe(pd.DataFrame) \\\n",
    "    .rename(columns = {name: 'frequency'})\n",
    "\n",
    "    stats_df['pmf'] = stats_df['frequency'] / sum(stats_df['frequency'])\n",
    "\n",
    "    if cdf:\n",
    "        stats_df['cdf'] = stats_df['pmf'].cumsum()\n",
    "\n",
    "    if reset_index:\n",
    "        stats_df = stats_df.reset_index()\n",
    "\n",
    "    return stats_df"
   ]
  },
  {
   "cell_type": "markdown",
   "metadata": {},
   "source": [
    "## Effect Size\n",
    "Let's pose a question. Does bestselling fiction books get higher user rating than bestselling nonfiction books?\n",
    "To answer that question, we will first plot user rating distributions of fiction books and user rating distribution of nonfiction books.   \n",
    "And then we will measure the difference between those two distributions.   \n",
    "Effect size is the size of the difference between those two distributions."
   ]
  },
  {
   "cell_type": "code",
   "execution_count": 124,
   "metadata": {},
   "outputs": [
    {
     "name": "stdout",
     "output_type": "stream",
     "text": [
      "240\n",
      "310\n"
     ]
    }
   ],
   "source": [
    "fiction_df = df[df.genre==\"Fiction\"]\n",
    "nonfiction_df = df[df.genre==\"Non Fiction\"]\n",
    "\n",
    "print(len(fiction_df))\n",
    "print(len(nonfiction_df))"
   ]
  },
  {
   "cell_type": "code",
   "execution_count": 125,
   "metadata": {},
   "outputs": [
    {
     "data": {
      "text/plain": [
       "<Axes: xlabel='user_rating'>"
      ]
     },
     "execution_count": 125,
     "metadata": {},
     "output_type": "execute_result"
    },
    {
     "data": {
      "image/png": "[encoded data removed]",
      "text/plain": [
       "<Figure size 640x480 with 1 Axes>"
      ]
     },
     "metadata": {},
     "output_type": "display_data"
    }
   ],
   "source": [
    "rating_stats = get_stats(fiction_df.user_rating, \"user_rating\", cdf=False, reset_index=True)\n",
    "rating_stats.plot.bar(x=\"user_rating\", y=\"frequency\", rot=90.0, fontsize=6)"
   ]
  },
  {
   "cell_type": "markdown",
   "metadata": {},
   "source": [
    "Fiction books get lots of 4.8 ratings followed by 4.9 ratings as second highest."
   ]
  },
  {
   "cell_type": "code",
   "execution_count": 126,
   "metadata": {},
   "outputs": [
    {
     "data": {
      "text/plain": [
       "<Axes: xlabel='user_rating'>"
      ]
     },
     "execution_count": 126,
     "metadata": {},
     "output_type": "execute_result"
    },
    {
     "data": {
      "image/png": "[encoded data removed]",
      "text/plain": [
       "<Figure size 640x480 with 1 Axes>"
      ]
     },
     "metadata": {},
     "output_type": "display_data"
    }
   ],
   "source": [
    "rating_stats = get_stats(nonfiction_df.user_rating, \"user_rating\", cdf=False, reset_index=True)\n",
    "rating_stats.plot.bar(x=\"user_rating\", y=\"frequency\", rot=90.0, fontsize=6)"
   ]
  },
  {
   "cell_type": "markdown",
   "metadata": {},
   "source": [
    "Non-fiction books gets lots of 4.6 and 4.7 ratings with 4.8 as second highest rating."
   ]
  },
  {
   "cell_type": "markdown",
   "metadata": {},
   "source": [
    "Now let's compare the mean rating of fiction books and mean rating of non-fiction books to see whether fiction books or non-fiction books get higher average rating."
   ]
  },
  {
   "cell_type": "code",
   "execution_count": 127,
   "metadata": {},
   "outputs": [
    {
     "name": "stdout",
     "output_type": "stream",
     "text": [
      "mean of fiction rating: 4.6483333333333325\n",
      "mean of nonfiction rating: 4.59516129032258\n"
     ]
    }
   ],
   "source": [
    "print(f\"mean of fiction rating: {fiction_df['user_rating'].mean()}\")\n",
    "print(f\"mean of nonfiction rating: {nonfiction_df['user_rating'].mean()}\")"
   ]
  },
  {
   "cell_type": "markdown",
   "metadata": {},
   "source": [
    "Mean value says that average rating of fiction books is marginally higher than that of non-fiction books. We have to see whether that effect size is significant or not."
   ]
  },
  {
   "cell_type": "markdown",
   "metadata": {},
   "source": [
    "### Cohen's Difference\n",
    "\n",
    "Cohen's difference is one way to measure the effect size or standardized difference between means of two distributions.    \n",
    "Cohen's d of 0.01 is considered to be very small with 0.2 as small, 0.5 as medium, 0.8 as large, 1.2 as very large and 2.0 as huge.   \n",
    "Now let's measure Cohen's d between fiction and non-fiction ratings."
   ]
  },
  {
   "cell_type": "code",
   "execution_count": 128,
   "metadata": {},
   "outputs": [],
   "source": [
    "def cohen_diff(group1, group2):\n",
    "  diff = group1.mean() - group2.mean()\n",
    "\n",
    "  var1 = group1.var()\n",
    "  var2 = group2.var()\n",
    "  n1 = len(group1)\n",
    "  n2 = len(group2)\n",
    "\n",
    "  pooled_var = (n1 * var1 + n2 * var2) / (n1+n2)\n",
    "  d = diff / math.sqrt(pooled_var)\n",
    "\n",
    "  return d"
   ]
  },
  {
   "cell_type": "code",
   "execution_count": 129,
   "metadata": {},
   "outputs": [
    {
     "name": "stdout",
     "output_type": "stream",
     "text": [
      "cohen diff: 0.235624987190022\n"
     ]
    }
   ],
   "source": [
    "print(f\"cohen diff: {cohen_diff(fiction_df.user_rating, nonfiction_df.user_rating)}\")"
   ]
  },
  {
   "cell_type": "markdown",
   "metadata": {},
   "source": [
    "Cohen's d between fiction and non-fiction ratings is 0.236 which can be considered as small. So we can say that the rating difference is not so significant.    \n",
    "Now let's see whether the effect size is significant under the good old famous \"hypothesis testing\"."
   ]
  },
  {
   "cell_type": "markdown",
   "metadata": {},
   "source": [
    "## Hypothesis Testing\n",
    "\n",
    "What is hypothesis testing? What does it test?    \n",
    "Objective of a hypothesis testing is to answer the question \"Given a sample and an effect, what is the probability that the effect occurs by chance?\"     \n",
    "       \n",
    "The steps to carry out hypothesis testing is:\n",
    "1. Define the test statistics to measure the effect size. In this example, test statistics is the cohen's d between fiction and non-fiction ratings.\n",
    "2. Define the null hypothesis which is the hypothesis under which the effect is not real. In this example, null hypothesis is that there is no difference in user rating between fiction and non-fiction books and they come from same distribution.\n",
    "3. Define p-value which is the probability of seeing the effect under null hypothesis. In this example, p-value will be the probability of seeing the cohen's d value greater than 0.236 under null hypothesis.    \n",
    "    \n",
    "If the p-value is lower enough, commonly under 0.05, the effect is said to be statistically significant and considered it cannot occur by chance."
   ]
  },
  {
   "cell_type": "code",
   "execution_count": 151,
   "metadata": {},
   "outputs": [],
   "source": [
    "class HypothesisTest:\n",
    "    '''Abstract Class for hypothesis testing'''\n",
    "    def __init__(self, data):\n",
    "        self.data = data\n",
    "        self.actual_effect = self.test_statistics(data)\n",
    "        \n",
    "    def test_statistics(self, data):\n",
    "        '''Test statistics to measure the effect size'''\n",
    "        raise NotImplementedError\n",
    "    \n",
    "    def null_hypothesis(self):\n",
    "        '''Sampling distribution under null hypothesis'''\n",
    "        raise NotImplementedError\n",
    "    \n",
    "    def p_value(self, iter=1000):\n",
    "        '''Calculate p-value'''\n",
    "        null_effects = [self.test_statistics(self.null_hypothesis())\n",
    "                           for _ in range(iter)]\n",
    "        count = sum([1 for x in null_effects if x >= self.actual_effect])\n",
    "        return count / iter"
   ]
  },
  {
   "cell_type": "code",
   "execution_count": 158,
   "metadata": {},
   "outputs": [],
   "source": [
    "class RatingTest(HypothesisTest):\n",
    "    def test_statistics(self, data):\n",
    "        fiction_rating, nonfiction_rating = data\n",
    "        return fiction_rating.mean() - nonfiction_rating.mean()\n",
    "    \n",
    "    def null_hypothesis(self):\n",
    "        fiction_rating, nonfiction_rating = self.data\n",
    "        n = len(fiction_rating)\n",
    "        pool = np.hstack((fiction_rating, nonfiction_rating))\n",
    "        np.random.shuffle(pool)\n",
    "        data = (pool[:n], pool[n:])\n",
    "        return data"
   ]
  },
  {
   "cell_type": "code",
   "execution_count": 159,
   "metadata": {},
   "outputs": [
    {
     "data": {
      "text/plain": [
       "0.00302"
      ]
     },
     "execution_count": 159,
     "metadata": {},
     "output_type": "execute_result"
    }
   ],
   "source": [
    "rating_test = RatingTest((fiction_df.user_rating.values, nonfiction_df.user_rating.values))\n",
    "\n",
    "p_values = []\n",
    "\n",
    "for _ in range(1000):\n",
    "    p_values.append(rating_test.p_value())\n",
    "    \n",
    "statistics.mean(p_values)"
   ]
  },
  {
   "cell_type": "markdown",
   "metadata": {},
   "source": [
    "The test statistics we used here is the one-sided difference in mean of fiction and non-fiction ratings. We used one-sided difference because we want to answer the question whether the fiction rating is higher than non-fiction rating.    \n",
    "Null hypothesis is defined by shuffling the fiction and non-fiction rating values and reassigned which is to simulate the scenerio where there is no difference between fiction and non-fiction ratings.   \n",
    "After running the test for 1000 times, we can see that the p-value is 0.003 which is less than 1%. We can say that it is not possible for this effect to occur by chance and it is statistically significant."
   ]
  },
  {
   "cell_type": "markdown",
   "metadata": {},
   "source": []
  }
 ],
 "metadata": {
  "kernelspec": {
   "display_name": "stats_with_python",
   "language": "python",
   "name": "python3"
  },
  "language_info": {
   "codemirror_mode": {
    "name": "ipython",
    "version": 3
   },
   "file_extension": ".py",
   "mimetype": "text/x-python",
   "name": "python",
   "nbconvert_exporter": "python",
   "pygments_lexer": "ipython3",
   "version": "3.8.18"
  }
 },
 "nbformat": 4,
 "nbformat_minor": 2
}
