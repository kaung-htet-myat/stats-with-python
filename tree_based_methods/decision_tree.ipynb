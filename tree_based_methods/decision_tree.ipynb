{
 "cells": [
  {
   "cell_type": "markdown",
   "id": "39bf0879",
   "metadata": {},
   "source": [
    "# Decision Trees\n",
    "\n",
    "- Decision trees are non-parametric models\n",
    "- It uses recursive binary splitting to grow a regression/classification tree\n",
    "- Decision trees are greedy which only find the best split on the corresponding region at current timestep\n",
    "- In regression trees, RSS is used to find the best split\n",
    "- In classification trees, impurity is used to find the best split\n",
    "- Best node is the feature+split pair with least RSS or impurity at current region"
   ]
  },
  {
   "cell_type": "code",
   "execution_count": null,
   "id": "984c5ad6",
   "metadata": {
    "vscode": {
     "languageId": "plaintext"
    }
   },
   "outputs": [],
   "source": []
  },
  {
   "cell_type": "markdown",
   "id": "e2476cc1",
   "metadata": {},
   "source": [
    "## Regression\n",
    "\n",
    "Regression trees use RSS (Residual Sums of Squares) to split the current data space.\n",
    "\n",
    "$RSS = \\sum_i(y_i-y_{r1})^2 + \\sum_i(y_i-y_{r2})^2$ <br><br>\n",
    "where $y_{r1}$=average value of region 1, and $y_{r2}$=average value of region 2\n"
   ]
  },
  {
   "cell_type": "code",
   "execution_count": null,
   "id": "5df880fd",
   "metadata": {
    "vscode": {
     "languageId": "plaintext"
    }
   },
   "outputs": [],
   "source": []
  },
  {
   "cell_type": "markdown",
   "id": "283d3375",
   "metadata": {},
   "source": [
    "## Classification\n",
    "Classification trees use impurity to split the current data space. Common impurity measures are gini index, entropy and information gain.\n",
    "\n",
    "$GI = 1 - \\sum_j(p_j)^2$ <br>\n",
    "$entropy = 1 - \\sum_j(p_j*log(p_j))$ <br><br>\n",
    "where j=target class <br><br>\n",
    "\n",
    "impurity of current node = weight_1 * impurity_of_region_1 + weight_2 * impurity_of_region_2<br>\n",
    "weight = num_of_sample_in_the_region/total_num_of_sample_in_parent"
   ]
  },
  {
   "cell_type": "code",
   "execution_count": null,
   "id": "28cefd4c",
   "metadata": {
    "vscode": {
     "languageId": "plaintext"
    }
   },
   "outputs": [],
   "source": []
  }
 ],
 "metadata": {
  "language_info": {
   "name": "python"
  }
 },
 "nbformat": 4,
 "nbformat_minor": 5
}
